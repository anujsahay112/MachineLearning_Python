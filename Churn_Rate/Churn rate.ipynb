{
 "cells": [
  {
   "cell_type": "code",
   "execution_count": 1,
   "metadata": {},
   "outputs": [],
   "source": [
    "#### Importing Libraries ####\n",
    "\n",
    "import pandas as pd\n",
    "import numpy as np\n",
    "import random\n",
    "import seaborn as sn\n",
    "import matplotlib.pyplot as plt\n",
    "\n"
   ]
  },
  {
   "cell_type": "code",
   "execution_count": 2,
   "metadata": {},
   "outputs": [],
   "source": [
    "dataset = pd.read_csv('churn_data.csv') # Users who were 60 days enrolled, churn in the next 30"
   ]
  },
  {
   "cell_type": "code",
   "execution_count": 3,
   "metadata": {},
   "outputs": [
    {
     "data": {
      "text/html": [
       "<div>\n",
       "<style scoped>\n",
       "    .dataframe tbody tr th:only-of-type {\n",
       "        vertical-align: middle;\n",
       "    }\n",
       "\n",
       "    .dataframe tbody tr th {\n",
       "        vertical-align: top;\n",
       "    }\n",
       "\n",
       "    .dataframe thead th {\n",
       "        text-align: right;\n",
       "    }\n",
       "</style>\n",
       "<table border=\"1\" class=\"dataframe\">\n",
       "  <thead>\n",
       "    <tr style=\"text-align: right;\">\n",
       "      <th></th>\n",
       "      <th>user</th>\n",
       "      <th>churn</th>\n",
       "      <th>age</th>\n",
       "      <th>housing</th>\n",
       "      <th>credit_score</th>\n",
       "      <th>deposits</th>\n",
       "      <th>withdrawal</th>\n",
       "      <th>purchases_partners</th>\n",
       "      <th>purchases</th>\n",
       "      <th>cc_taken</th>\n",
       "      <th>...</th>\n",
       "      <th>waiting_4_loan</th>\n",
       "      <th>cancelled_loan</th>\n",
       "      <th>received_loan</th>\n",
       "      <th>rejected_loan</th>\n",
       "      <th>zodiac_sign</th>\n",
       "      <th>left_for_two_month_plus</th>\n",
       "      <th>left_for_one_month</th>\n",
       "      <th>rewards_earned</th>\n",
       "      <th>reward_rate</th>\n",
       "      <th>is_referred</th>\n",
       "    </tr>\n",
       "  </thead>\n",
       "  <tbody>\n",
       "    <tr>\n",
       "      <th>0</th>\n",
       "      <td>55409</td>\n",
       "      <td>0</td>\n",
       "      <td>37.0</td>\n",
       "      <td>na</td>\n",
       "      <td>NaN</td>\n",
       "      <td>0</td>\n",
       "      <td>0</td>\n",
       "      <td>0</td>\n",
       "      <td>0</td>\n",
       "      <td>0</td>\n",
       "      <td>...</td>\n",
       "      <td>0</td>\n",
       "      <td>0</td>\n",
       "      <td>0</td>\n",
       "      <td>0</td>\n",
       "      <td>Leo</td>\n",
       "      <td>1</td>\n",
       "      <td>0</td>\n",
       "      <td>NaN</td>\n",
       "      <td>0.00</td>\n",
       "      <td>0</td>\n",
       "    </tr>\n",
       "    <tr>\n",
       "      <th>1</th>\n",
       "      <td>23547</td>\n",
       "      <td>0</td>\n",
       "      <td>28.0</td>\n",
       "      <td>R</td>\n",
       "      <td>486.0</td>\n",
       "      <td>0</td>\n",
       "      <td>0</td>\n",
       "      <td>1</td>\n",
       "      <td>0</td>\n",
       "      <td>0</td>\n",
       "      <td>...</td>\n",
       "      <td>0</td>\n",
       "      <td>0</td>\n",
       "      <td>0</td>\n",
       "      <td>0</td>\n",
       "      <td>Leo</td>\n",
       "      <td>0</td>\n",
       "      <td>0</td>\n",
       "      <td>44.0</td>\n",
       "      <td>1.47</td>\n",
       "      <td>1</td>\n",
       "    </tr>\n",
       "    <tr>\n",
       "      <th>2</th>\n",
       "      <td>58313</td>\n",
       "      <td>0</td>\n",
       "      <td>35.0</td>\n",
       "      <td>R</td>\n",
       "      <td>561.0</td>\n",
       "      <td>47</td>\n",
       "      <td>2</td>\n",
       "      <td>86</td>\n",
       "      <td>47</td>\n",
       "      <td>0</td>\n",
       "      <td>...</td>\n",
       "      <td>0</td>\n",
       "      <td>0</td>\n",
       "      <td>0</td>\n",
       "      <td>0</td>\n",
       "      <td>Capricorn</td>\n",
       "      <td>1</td>\n",
       "      <td>0</td>\n",
       "      <td>65.0</td>\n",
       "      <td>2.17</td>\n",
       "      <td>0</td>\n",
       "    </tr>\n",
       "    <tr>\n",
       "      <th>3</th>\n",
       "      <td>8095</td>\n",
       "      <td>0</td>\n",
       "      <td>26.0</td>\n",
       "      <td>R</td>\n",
       "      <td>567.0</td>\n",
       "      <td>26</td>\n",
       "      <td>3</td>\n",
       "      <td>38</td>\n",
       "      <td>25</td>\n",
       "      <td>0</td>\n",
       "      <td>...</td>\n",
       "      <td>0</td>\n",
       "      <td>0</td>\n",
       "      <td>0</td>\n",
       "      <td>0</td>\n",
       "      <td>Capricorn</td>\n",
       "      <td>0</td>\n",
       "      <td>0</td>\n",
       "      <td>33.0</td>\n",
       "      <td>1.10</td>\n",
       "      <td>1</td>\n",
       "    </tr>\n",
       "    <tr>\n",
       "      <th>4</th>\n",
       "      <td>61353</td>\n",
       "      <td>1</td>\n",
       "      <td>27.0</td>\n",
       "      <td>na</td>\n",
       "      <td>NaN</td>\n",
       "      <td>0</td>\n",
       "      <td>0</td>\n",
       "      <td>2</td>\n",
       "      <td>0</td>\n",
       "      <td>0</td>\n",
       "      <td>...</td>\n",
       "      <td>0</td>\n",
       "      <td>0</td>\n",
       "      <td>0</td>\n",
       "      <td>0</td>\n",
       "      <td>Aries</td>\n",
       "      <td>1</td>\n",
       "      <td>0</td>\n",
       "      <td>1.0</td>\n",
       "      <td>0.03</td>\n",
       "      <td>0</td>\n",
       "    </tr>\n",
       "  </tbody>\n",
       "</table>\n",
       "<p>5 rows × 31 columns</p>\n",
       "</div>"
      ],
      "text/plain": [
       "    user  churn   age housing  credit_score  deposits  withdrawal  \\\n",
       "0  55409      0  37.0      na           NaN         0           0   \n",
       "1  23547      0  28.0       R         486.0         0           0   \n",
       "2  58313      0  35.0       R         561.0        47           2   \n",
       "3   8095      0  26.0       R         567.0        26           3   \n",
       "4  61353      1  27.0      na           NaN         0           0   \n",
       "\n",
       "   purchases_partners  purchases  cc_taken  ...  waiting_4_loan  \\\n",
       "0                   0          0         0  ...               0   \n",
       "1                   1          0         0  ...               0   \n",
       "2                  86         47         0  ...               0   \n",
       "3                  38         25         0  ...               0   \n",
       "4                   2          0         0  ...               0   \n",
       "\n",
       "   cancelled_loan  received_loan  rejected_loan  zodiac_sign  \\\n",
       "0               0              0              0          Leo   \n",
       "1               0              0              0          Leo   \n",
       "2               0              0              0    Capricorn   \n",
       "3               0              0              0    Capricorn   \n",
       "4               0              0              0        Aries   \n",
       "\n",
       "   left_for_two_month_plus  left_for_one_month  rewards_earned  reward_rate  \\\n",
       "0                        1                   0             NaN         0.00   \n",
       "1                        0                   0            44.0         1.47   \n",
       "2                        1                   0            65.0         2.17   \n",
       "3                        0                   0            33.0         1.10   \n",
       "4                        1                   0             1.0         0.03   \n",
       "\n",
       "   is_referred  \n",
       "0            0  \n",
       "1            1  \n",
       "2            0  \n",
       "3            1  \n",
       "4            0  \n",
       "\n",
       "[5 rows x 31 columns]"
      ]
     },
     "execution_count": 3,
     "metadata": {},
     "output_type": "execute_result"
    }
   ],
   "source": [
    "dataset.head()"
   ]
  },
  {
   "cell_type": "code",
   "execution_count": 4,
   "metadata": {},
   "outputs": [
    {
     "data": {
      "text/plain": [
       "Index(['user', 'churn', 'age', 'housing', 'credit_score', 'deposits',\n",
       "       'withdrawal', 'purchases_partners', 'purchases', 'cc_taken',\n",
       "       'cc_recommended', 'cc_disliked', 'cc_liked', 'cc_application_begin',\n",
       "       'app_downloaded', 'web_user', 'app_web_user', 'ios_user',\n",
       "       'android_user', 'registered_phones', 'payment_type', 'waiting_4_loan',\n",
       "       'cancelled_loan', 'received_loan', 'rejected_loan', 'zodiac_sign',\n",
       "       'left_for_two_month_plus', 'left_for_one_month', 'rewards_earned',\n",
       "       'reward_rate', 'is_referred'],\n",
       "      dtype='object')"
      ]
     },
     "execution_count": 4,
     "metadata": {},
     "output_type": "execute_result"
    }
   ],
   "source": [
    "dataset.columns"
   ]
  },
  {
   "cell_type": "code",
   "execution_count": 5,
   "metadata": {},
   "outputs": [
    {
     "data": {
      "text/html": [
       "<div>\n",
       "<style scoped>\n",
       "    .dataframe tbody tr th:only-of-type {\n",
       "        vertical-align: middle;\n",
       "    }\n",
       "\n",
       "    .dataframe tbody tr th {\n",
       "        vertical-align: top;\n",
       "    }\n",
       "\n",
       "    .dataframe thead th {\n",
       "        text-align: right;\n",
       "    }\n",
       "</style>\n",
       "<table border=\"1\" class=\"dataframe\">\n",
       "  <thead>\n",
       "    <tr style=\"text-align: right;\">\n",
       "      <th></th>\n",
       "      <th>user</th>\n",
       "      <th>churn</th>\n",
       "      <th>age</th>\n",
       "      <th>credit_score</th>\n",
       "      <th>deposits</th>\n",
       "      <th>withdrawal</th>\n",
       "      <th>purchases_partners</th>\n",
       "      <th>purchases</th>\n",
       "      <th>cc_taken</th>\n",
       "      <th>cc_recommended</th>\n",
       "      <th>...</th>\n",
       "      <th>registered_phones</th>\n",
       "      <th>waiting_4_loan</th>\n",
       "      <th>cancelled_loan</th>\n",
       "      <th>received_loan</th>\n",
       "      <th>rejected_loan</th>\n",
       "      <th>left_for_two_month_plus</th>\n",
       "      <th>left_for_one_month</th>\n",
       "      <th>rewards_earned</th>\n",
       "      <th>reward_rate</th>\n",
       "      <th>is_referred</th>\n",
       "    </tr>\n",
       "  </thead>\n",
       "  <tbody>\n",
       "    <tr>\n",
       "      <th>count</th>\n",
       "      <td>27000.000000</td>\n",
       "      <td>27000.000000</td>\n",
       "      <td>26996.000000</td>\n",
       "      <td>18969.000000</td>\n",
       "      <td>27000.000000</td>\n",
       "      <td>27000.000000</td>\n",
       "      <td>27000.000000</td>\n",
       "      <td>27000.000000</td>\n",
       "      <td>27000.000000</td>\n",
       "      <td>27000.000000</td>\n",
       "      <td>...</td>\n",
       "      <td>27000.000000</td>\n",
       "      <td>27000.000000</td>\n",
       "      <td>27000.000000</td>\n",
       "      <td>27000.000000</td>\n",
       "      <td>27000.000000</td>\n",
       "      <td>27000.000000</td>\n",
       "      <td>27000.000000</td>\n",
       "      <td>23773.000000</td>\n",
       "      <td>27000.000000</td>\n",
       "      <td>27000.000000</td>\n",
       "    </tr>\n",
       "    <tr>\n",
       "      <th>mean</th>\n",
       "      <td>35422.702519</td>\n",
       "      <td>0.413852</td>\n",
       "      <td>32.219921</td>\n",
       "      <td>542.944225</td>\n",
       "      <td>3.341556</td>\n",
       "      <td>0.307000</td>\n",
       "      <td>28.062519</td>\n",
       "      <td>3.273481</td>\n",
       "      <td>0.073778</td>\n",
       "      <td>92.625778</td>\n",
       "      <td>...</td>\n",
       "      <td>0.420926</td>\n",
       "      <td>0.001296</td>\n",
       "      <td>0.018815</td>\n",
       "      <td>0.018185</td>\n",
       "      <td>0.004889</td>\n",
       "      <td>0.173444</td>\n",
       "      <td>0.018074</td>\n",
       "      <td>29.110125</td>\n",
       "      <td>0.907684</td>\n",
       "      <td>0.318037</td>\n",
       "    </tr>\n",
       "    <tr>\n",
       "      <th>std</th>\n",
       "      <td>20321.006678</td>\n",
       "      <td>0.492532</td>\n",
       "      <td>9.964838</td>\n",
       "      <td>61.059315</td>\n",
       "      <td>9.131406</td>\n",
       "      <td>1.055416</td>\n",
       "      <td>42.219686</td>\n",
       "      <td>8.953077</td>\n",
       "      <td>0.437299</td>\n",
       "      <td>88.869343</td>\n",
       "      <td>...</td>\n",
       "      <td>0.912831</td>\n",
       "      <td>0.035981</td>\n",
       "      <td>0.135873</td>\n",
       "      <td>0.133623</td>\n",
       "      <td>0.069751</td>\n",
       "      <td>0.378638</td>\n",
       "      <td>0.133222</td>\n",
       "      <td>21.973478</td>\n",
       "      <td>0.752016</td>\n",
       "      <td>0.465723</td>\n",
       "    </tr>\n",
       "    <tr>\n",
       "      <th>min</th>\n",
       "      <td>1.000000</td>\n",
       "      <td>0.000000</td>\n",
       "      <td>17.000000</td>\n",
       "      <td>2.000000</td>\n",
       "      <td>0.000000</td>\n",
       "      <td>0.000000</td>\n",
       "      <td>0.000000</td>\n",
       "      <td>0.000000</td>\n",
       "      <td>0.000000</td>\n",
       "      <td>0.000000</td>\n",
       "      <td>...</td>\n",
       "      <td>0.000000</td>\n",
       "      <td>0.000000</td>\n",
       "      <td>0.000000</td>\n",
       "      <td>0.000000</td>\n",
       "      <td>0.000000</td>\n",
       "      <td>0.000000</td>\n",
       "      <td>0.000000</td>\n",
       "      <td>1.000000</td>\n",
       "      <td>0.000000</td>\n",
       "      <td>0.000000</td>\n",
       "    </tr>\n",
       "    <tr>\n",
       "      <th>25%</th>\n",
       "      <td>17810.500000</td>\n",
       "      <td>0.000000</td>\n",
       "      <td>25.000000</td>\n",
       "      <td>507.000000</td>\n",
       "      <td>0.000000</td>\n",
       "      <td>0.000000</td>\n",
       "      <td>0.000000</td>\n",
       "      <td>0.000000</td>\n",
       "      <td>0.000000</td>\n",
       "      <td>10.000000</td>\n",
       "      <td>...</td>\n",
       "      <td>0.000000</td>\n",
       "      <td>0.000000</td>\n",
       "      <td>0.000000</td>\n",
       "      <td>0.000000</td>\n",
       "      <td>0.000000</td>\n",
       "      <td>0.000000</td>\n",
       "      <td>0.000000</td>\n",
       "      <td>9.000000</td>\n",
       "      <td>0.200000</td>\n",
       "      <td>0.000000</td>\n",
       "    </tr>\n",
       "    <tr>\n",
       "      <th>50%</th>\n",
       "      <td>35749.000000</td>\n",
       "      <td>0.000000</td>\n",
       "      <td>30.000000</td>\n",
       "      <td>542.000000</td>\n",
       "      <td>0.000000</td>\n",
       "      <td>0.000000</td>\n",
       "      <td>9.000000</td>\n",
       "      <td>0.000000</td>\n",
       "      <td>0.000000</td>\n",
       "      <td>65.000000</td>\n",
       "      <td>...</td>\n",
       "      <td>0.000000</td>\n",
       "      <td>0.000000</td>\n",
       "      <td>0.000000</td>\n",
       "      <td>0.000000</td>\n",
       "      <td>0.000000</td>\n",
       "      <td>0.000000</td>\n",
       "      <td>0.000000</td>\n",
       "      <td>25.000000</td>\n",
       "      <td>0.780000</td>\n",
       "      <td>0.000000</td>\n",
       "    </tr>\n",
       "    <tr>\n",
       "      <th>75%</th>\n",
       "      <td>53244.250000</td>\n",
       "      <td>1.000000</td>\n",
       "      <td>37.000000</td>\n",
       "      <td>578.000000</td>\n",
       "      <td>1.000000</td>\n",
       "      <td>0.000000</td>\n",
       "      <td>43.000000</td>\n",
       "      <td>1.000000</td>\n",
       "      <td>0.000000</td>\n",
       "      <td>164.000000</td>\n",
       "      <td>...</td>\n",
       "      <td>0.000000</td>\n",
       "      <td>0.000000</td>\n",
       "      <td>0.000000</td>\n",
       "      <td>0.000000</td>\n",
       "      <td>0.000000</td>\n",
       "      <td>0.000000</td>\n",
       "      <td>0.000000</td>\n",
       "      <td>48.000000</td>\n",
       "      <td>1.530000</td>\n",
       "      <td>1.000000</td>\n",
       "    </tr>\n",
       "    <tr>\n",
       "      <th>max</th>\n",
       "      <td>69658.000000</td>\n",
       "      <td>1.000000</td>\n",
       "      <td>91.000000</td>\n",
       "      <td>838.000000</td>\n",
       "      <td>65.000000</td>\n",
       "      <td>29.000000</td>\n",
       "      <td>1067.000000</td>\n",
       "      <td>63.000000</td>\n",
       "      <td>29.000000</td>\n",
       "      <td>522.000000</td>\n",
       "      <td>...</td>\n",
       "      <td>5.000000</td>\n",
       "      <td>1.000000</td>\n",
       "      <td>1.000000</td>\n",
       "      <td>1.000000</td>\n",
       "      <td>1.000000</td>\n",
       "      <td>1.000000</td>\n",
       "      <td>1.000000</td>\n",
       "      <td>114.000000</td>\n",
       "      <td>4.000000</td>\n",
       "      <td>1.000000</td>\n",
       "    </tr>\n",
       "  </tbody>\n",
       "</table>\n",
       "<p>8 rows × 28 columns</p>\n",
       "</div>"
      ],
      "text/plain": [
       "               user         churn           age  credit_score      deposits  \\\n",
       "count  27000.000000  27000.000000  26996.000000  18969.000000  27000.000000   \n",
       "mean   35422.702519      0.413852     32.219921    542.944225      3.341556   \n",
       "std    20321.006678      0.492532      9.964838     61.059315      9.131406   \n",
       "min        1.000000      0.000000     17.000000      2.000000      0.000000   \n",
       "25%    17810.500000      0.000000     25.000000    507.000000      0.000000   \n",
       "50%    35749.000000      0.000000     30.000000    542.000000      0.000000   \n",
       "75%    53244.250000      1.000000     37.000000    578.000000      1.000000   \n",
       "max    69658.000000      1.000000     91.000000    838.000000     65.000000   \n",
       "\n",
       "         withdrawal  purchases_partners     purchases      cc_taken  \\\n",
       "count  27000.000000        27000.000000  27000.000000  27000.000000   \n",
       "mean       0.307000           28.062519      3.273481      0.073778   \n",
       "std        1.055416           42.219686      8.953077      0.437299   \n",
       "min        0.000000            0.000000      0.000000      0.000000   \n",
       "25%        0.000000            0.000000      0.000000      0.000000   \n",
       "50%        0.000000            9.000000      0.000000      0.000000   \n",
       "75%        0.000000           43.000000      1.000000      0.000000   \n",
       "max       29.000000         1067.000000     63.000000     29.000000   \n",
       "\n",
       "       cc_recommended  ...  registered_phones  waiting_4_loan  cancelled_loan  \\\n",
       "count    27000.000000  ...       27000.000000    27000.000000    27000.000000   \n",
       "mean        92.625778  ...           0.420926        0.001296        0.018815   \n",
       "std         88.869343  ...           0.912831        0.035981        0.135873   \n",
       "min          0.000000  ...           0.000000        0.000000        0.000000   \n",
       "25%         10.000000  ...           0.000000        0.000000        0.000000   \n",
       "50%         65.000000  ...           0.000000        0.000000        0.000000   \n",
       "75%        164.000000  ...           0.000000        0.000000        0.000000   \n",
       "max        522.000000  ...           5.000000        1.000000        1.000000   \n",
       "\n",
       "       received_loan  rejected_loan  left_for_two_month_plus  \\\n",
       "count   27000.000000   27000.000000             27000.000000   \n",
       "mean        0.018185       0.004889                 0.173444   \n",
       "std         0.133623       0.069751                 0.378638   \n",
       "min         0.000000       0.000000                 0.000000   \n",
       "25%         0.000000       0.000000                 0.000000   \n",
       "50%         0.000000       0.000000                 0.000000   \n",
       "75%         0.000000       0.000000                 0.000000   \n",
       "max         1.000000       1.000000                 1.000000   \n",
       "\n",
       "       left_for_one_month  rewards_earned   reward_rate   is_referred  \n",
       "count        27000.000000    23773.000000  27000.000000  27000.000000  \n",
       "mean             0.018074       29.110125      0.907684      0.318037  \n",
       "std              0.133222       21.973478      0.752016      0.465723  \n",
       "min              0.000000        1.000000      0.000000      0.000000  \n",
       "25%              0.000000        9.000000      0.200000      0.000000  \n",
       "50%              0.000000       25.000000      0.780000      0.000000  \n",
       "75%              0.000000       48.000000      1.530000      1.000000  \n",
       "max              1.000000      114.000000      4.000000      1.000000  \n",
       "\n",
       "[8 rows x 28 columns]"
      ]
     },
     "execution_count": 5,
     "metadata": {},
     "output_type": "execute_result"
    }
   ],
   "source": [
    "dataset.describe() # Distribution of Numerical Variables"
   ]
  },
  {
   "cell_type": "code",
   "execution_count": 6,
   "metadata": {},
   "outputs": [
    {
     "data": {
      "text/plain": [
       "user                          0\n",
       "churn                         0\n",
       "age                           4\n",
       "housing                       0\n",
       "credit_score               8031\n",
       "deposits                      0\n",
       "withdrawal                    0\n",
       "purchases_partners            0\n",
       "purchases                     0\n",
       "cc_taken                      0\n",
       "cc_recommended                0\n",
       "cc_disliked                   0\n",
       "cc_liked                      0\n",
       "cc_application_begin          0\n",
       "app_downloaded                0\n",
       "web_user                      0\n",
       "app_web_user                  0\n",
       "ios_user                      0\n",
       "android_user                  0\n",
       "registered_phones             0\n",
       "payment_type                  0\n",
       "waiting_4_loan                0\n",
       "cancelled_loan                0\n",
       "received_loan                 0\n",
       "rejected_loan                 0\n",
       "zodiac_sign                   0\n",
       "left_for_two_month_plus       0\n",
       "left_for_one_month            0\n",
       "rewards_earned             3227\n",
       "reward_rate                   0\n",
       "is_referred                   0\n",
       "dtype: int64"
      ]
     },
     "execution_count": 6,
     "metadata": {},
     "output_type": "execute_result"
    }
   ],
   "source": [
    "dataset.isna().sum()"
   ]
  },
  {
   "cell_type": "code",
   "execution_count": 7,
   "metadata": {},
   "outputs": [
    {
     "data": {
      "text/plain": [
       "user                       False\n",
       "churn                      False\n",
       "age                         True\n",
       "housing                    False\n",
       "credit_score                True\n",
       "deposits                   False\n",
       "withdrawal                 False\n",
       "purchases_partners         False\n",
       "purchases                  False\n",
       "cc_taken                   False\n",
       "cc_recommended             False\n",
       "cc_disliked                False\n",
       "cc_liked                   False\n",
       "cc_application_begin       False\n",
       "app_downloaded             False\n",
       "web_user                   False\n",
       "app_web_user               False\n",
       "ios_user                   False\n",
       "android_user               False\n",
       "registered_phones          False\n",
       "payment_type               False\n",
       "waiting_4_loan             False\n",
       "cancelled_loan             False\n",
       "received_loan              False\n",
       "rejected_loan              False\n",
       "zodiac_sign                False\n",
       "left_for_two_month_plus    False\n",
       "left_for_one_month         False\n",
       "rewards_earned              True\n",
       "reward_rate                False\n",
       "is_referred                False\n",
       "dtype: bool"
      ]
     },
     "execution_count": 7,
     "metadata": {},
     "output_type": "execute_result"
    }
   ],
   "source": [
    "dataset.isna().any()"
   ]
  },
  {
   "cell_type": "code",
   "execution_count": 8,
   "metadata": {},
   "outputs": [],
   "source": [
    "dataset=dataset[pd.notnull(dataset['age'])]"
   ]
  },
  {
   "cell_type": "code",
   "execution_count": 9,
   "metadata": {},
   "outputs": [],
   "source": [
    "dataset = dataset.drop(columns = ['credit_score', 'rewards_earned'])"
   ]
  },
  {
   "cell_type": "code",
   "execution_count": 10,
   "metadata": {},
   "outputs": [
    {
     "name": "stdout",
     "output_type": "stream",
     "text": [
      "<class 'pandas.core.frame.DataFrame'>\n",
      "Int64Index: 26996 entries, 0 to 26999\n",
      "Data columns (total 29 columns):\n",
      "user                       26996 non-null int64\n",
      "churn                      26996 non-null int64\n",
      "age                        26996 non-null float64\n",
      "housing                    26996 non-null object\n",
      "deposits                   26996 non-null int64\n",
      "withdrawal                 26996 non-null int64\n",
      "purchases_partners         26996 non-null int64\n",
      "purchases                  26996 non-null int64\n",
      "cc_taken                   26996 non-null int64\n",
      "cc_recommended             26996 non-null int64\n",
      "cc_disliked                26996 non-null int64\n",
      "cc_liked                   26996 non-null int64\n",
      "cc_application_begin       26996 non-null int64\n",
      "app_downloaded             26996 non-null int64\n",
      "web_user                   26996 non-null int64\n",
      "app_web_user               26996 non-null int64\n",
      "ios_user                   26996 non-null int64\n",
      "android_user               26996 non-null int64\n",
      "registered_phones          26996 non-null int64\n",
      "payment_type               26996 non-null object\n",
      "waiting_4_loan             26996 non-null int64\n",
      "cancelled_loan             26996 non-null int64\n",
      "received_loan              26996 non-null int64\n",
      "rejected_loan              26996 non-null int64\n",
      "zodiac_sign                26996 non-null object\n",
      "left_for_two_month_plus    26996 non-null int64\n",
      "left_for_one_month         26996 non-null int64\n",
      "reward_rate                26996 non-null float64\n",
      "is_referred                26996 non-null int64\n",
      "dtypes: float64(2), int64(24), object(3)\n",
      "memory usage: 6.2+ MB\n"
     ]
    }
   ],
   "source": [
    "dataset.info()"
   ]
  },
  {
   "cell_type": "code",
   "execution_count": 11,
   "metadata": {},
   "outputs": [
    {
     "data": {
      "image/png": "[encoded data removed]",
      "text/plain": [
       "<Figure size 1080x864 with 17 Axes>"
      ]
     },
     "metadata": {},
     "output_type": "display_data"
    }
   ],
   "source": [
    "## Pie Plots\n",
    "dataset2 = dataset[['housing', 'is_referred', 'app_downloaded',\n",
    "                    'web_user', 'app_web_user', 'ios_user',\n",
    "                    'android_user', 'registered_phones', 'payment_type',\n",
    "                    'waiting_4_loan', 'cancelled_loan',\n",
    "                    'received_loan', 'rejected_loan', 'zodiac_sign',\n",
    "                    'left_for_two_month_plus', 'left_for_one_month', 'is_referred']]\n",
    "fig = plt.figure(figsize=(15, 12))\n",
    "plt.suptitle('Pie Chart Distributions', fontsize=20)\n",
    "for i in range(1, dataset2.shape[1] + 1):\n",
    "    plt.subplot(6, 3, i)\n",
    "    f = plt.gca()\n",
    "    f.axes.get_yaxis().set_visible(False)\n",
    "    f.set_title(dataset2.columns.values[i - 1])\n",
    "   \n",
    "    values = dataset2.iloc[:, i - 1].value_counts(normalize = True).values\n",
    "    index = dataset2.iloc[:, i - 1].value_counts(normalize = True).index\n",
    "    plt.pie(values, labels = index, autopct='%1.1f%%')\n",
    "    plt.axis('equal')\n",
    "fig.tight_layout(rect=[0, 0.03, 1, 0.95])"
   ]
  },
  {
   "cell_type": "code",
   "execution_count": 12,
   "metadata": {},
   "outputs": [
    {
     "data": {
      "text/plain": [
       "0    27\n",
       "1     8\n",
       "Name: churn, dtype: int64"
      ]
     },
     "execution_count": 12,
     "metadata": {},
     "output_type": "execute_result"
    }
   ],
   "source": [
    "## Exploring Uneven Features\n",
    "dataset[dataset2.waiting_4_loan == 1].churn.value_counts()\n"
   ]
  },
  {
   "cell_type": "code",
   "execution_count": 13,
   "metadata": {},
   "outputs": [
    {
     "data": {
      "text/plain": [
       "1    274\n",
       "0    234\n",
       "Name: churn, dtype: int64"
      ]
     },
     "execution_count": 13,
     "metadata": {},
     "output_type": "execute_result"
    }
   ],
   "source": [
    "dataset[dataset2.cancelled_loan == 1].churn.value_counts()\n"
   ]
  },
  {
   "cell_type": "code",
   "execution_count": 14,
   "metadata": {},
   "outputs": [
    {
     "data": {
      "text/plain": [
       "1    292\n",
       "0    199\n",
       "Name: churn, dtype: int64"
      ]
     },
     "execution_count": 14,
     "metadata": {},
     "output_type": "execute_result"
    }
   ],
   "source": [
    "dataset[dataset2.received_loan == 1].churn.value_counts()\n"
   ]
  },
  {
   "cell_type": "code",
   "execution_count": 15,
   "metadata": {},
   "outputs": [
    {
     "data": {
      "text/plain": [
       "1    107\n",
       "0     25\n",
       "Name: churn, dtype: int64"
      ]
     },
     "execution_count": 15,
     "metadata": {},
     "output_type": "execute_result"
    }
   ],
   "source": [
    "dataset[dataset2.rejected_loan == 1].churn.value_counts()\n"
   ]
  },
  {
   "cell_type": "code",
   "execution_count": 16,
   "metadata": {},
   "outputs": [
    {
     "data": {
      "text/plain": [
       "1    266\n",
       "0    222\n",
       "Name: churn, dtype: int64"
      ]
     },
     "execution_count": 16,
     "metadata": {},
     "output_type": "execute_result"
    }
   ],
   "source": [
    "dataset[dataset2.left_for_one_month == 1].churn.value_counts()"
   ]
  },
  {
   "cell_type": "code",
   "execution_count": 17,
   "metadata": {},
   "outputs": [],
   "source": [
    "dataset2 = dataset[['housing', 'is_referred', 'app_downloaded',\n",
    "                    'web_user', 'app_web_user', 'ios_user',\n",
    "                    'android_user', 'registered_phones', 'payment_type',\n",
    "                    'waiting_4_loan', 'cancelled_loan',\n",
    "                    'received_loan', 'rejected_loan', 'zodiac_sign',\n",
    "                    'left_for_two_month_plus', 'left_for_one_month', 'is_referred']]"
   ]
  },
  {
   "cell_type": "code",
   "execution_count": 18,
   "metadata": {},
   "outputs": [
    {
     "data": {
      "text/plain": [
       "<matplotlib.axes._subplots.AxesSubplot at 0x1a3af3553c8>"
      ]
     },
     "execution_count": 18,
     "metadata": {},
     "output_type": "execute_result"
    },
    {
     "data": {
      "image/png": "[encoded data removed]",
      "text/plain": [
       "<Figure size 1440x720 with 1 Axes>"
      ]
     },
     "metadata": {
      "needs_background": "light"
     },
     "output_type": "display_data"
    }
   ],
   "source": [
    "dataset2.drop(columns = ['housing', 'payment_type',\n",
    "                         'registered_phones', 'zodiac_sign'])\n",
    "dataset2.corrwith(dataset.churn).plot.bar(\n",
    "        figsize = (20, 10), title = \"Correlation with E Signed\", fontsize = 15,\n",
    "        rot = 45, grid = True)\n"
   ]
  },
  {
   "cell_type": "code",
   "execution_count": null,
   "metadata": {},
   "outputs": [],
   "source": []
  },
  {
   "cell_type": "code",
   "execution_count": 19,
   "metadata": {},
   "outputs": [
    {
     "data": {
      "text/html": [
       "<div>\n",
       "<style scoped>\n",
       "    .dataframe tbody tr th:only-of-type {\n",
       "        vertical-align: middle;\n",
       "    }\n",
       "\n",
       "    .dataframe tbody tr th {\n",
       "        vertical-align: top;\n",
       "    }\n",
       "\n",
       "    .dataframe thead th {\n",
       "        text-align: right;\n",
       "    }\n",
       "</style>\n",
       "<table border=\"1\" class=\"dataframe\">\n",
       "  <thead>\n",
       "    <tr style=\"text-align: right;\">\n",
       "      <th></th>\n",
       "      <th>is_referred</th>\n",
       "      <th>app_downloaded</th>\n",
       "      <th>web_user</th>\n",
       "      <th>app_web_user</th>\n",
       "      <th>ios_user</th>\n",
       "      <th>android_user</th>\n",
       "      <th>registered_phones</th>\n",
       "      <th>waiting_4_loan</th>\n",
       "      <th>cancelled_loan</th>\n",
       "      <th>received_loan</th>\n",
       "      <th>rejected_loan</th>\n",
       "      <th>left_for_two_month_plus</th>\n",
       "      <th>left_for_one_month</th>\n",
       "      <th>is_referred</th>\n",
       "    </tr>\n",
       "  </thead>\n",
       "  <tbody>\n",
       "    <tr>\n",
       "      <th>is_referred</th>\n",
       "      <td>1.000000</td>\n",
       "      <td>0.152472</td>\n",
       "      <td>0.053898</td>\n",
       "      <td>0.114101</td>\n",
       "      <td>0.081334</td>\n",
       "      <td>-0.003460</td>\n",
       "      <td>0.068209</td>\n",
       "      <td>-0.002499</td>\n",
       "      <td>-0.006175</td>\n",
       "      <td>-0.020918</td>\n",
       "      <td>-0.022780</td>\n",
       "      <td>0.031459</td>\n",
       "      <td>-0.037725</td>\n",
       "      <td>1.000000</td>\n",
       "    </tr>\n",
       "    <tr>\n",
       "      <th>app_downloaded</th>\n",
       "      <td>0.152472</td>\n",
       "      <td>1.000000</td>\n",
       "      <td>-0.149679</td>\n",
       "      <td>0.252834</td>\n",
       "      <td>0.180035</td>\n",
       "      <td>0.266326</td>\n",
       "      <td>0.102973</td>\n",
       "      <td>0.003205</td>\n",
       "      <td>-0.010095</td>\n",
       "      <td>0.016053</td>\n",
       "      <td>-0.004323</td>\n",
       "      <td>-0.014080</td>\n",
       "      <td>0.005457</td>\n",
       "      <td>0.152472</td>\n",
       "    </tr>\n",
       "    <tr>\n",
       "      <th>web_user</th>\n",
       "      <td>0.053898</td>\n",
       "      <td>-0.149679</td>\n",
       "      <td>1.000000</td>\n",
       "      <td>0.912722</td>\n",
       "      <td>0.057228</td>\n",
       "      <td>-0.113570</td>\n",
       "      <td>0.066851</td>\n",
       "      <td>-0.017310</td>\n",
       "      <td>0.023472</td>\n",
       "      <td>0.027444</td>\n",
       "      <td>0.013028</td>\n",
       "      <td>0.048120</td>\n",
       "      <td>0.037097</td>\n",
       "      <td>0.053898</td>\n",
       "    </tr>\n",
       "    <tr>\n",
       "      <th>app_web_user</th>\n",
       "      <td>0.114101</td>\n",
       "      <td>0.252834</td>\n",
       "      <td>0.912722</td>\n",
       "      <td>1.000000</td>\n",
       "      <td>0.128411</td>\n",
       "      <td>-0.005246</td>\n",
       "      <td>0.107045</td>\n",
       "      <td>-0.015901</td>\n",
       "      <td>0.019556</td>\n",
       "      <td>0.033043</td>\n",
       "      <td>0.010531</td>\n",
       "      <td>0.040415</td>\n",
       "      <td>0.039131</td>\n",
       "      <td>0.114101</td>\n",
       "    </tr>\n",
       "    <tr>\n",
       "      <th>ios_user</th>\n",
       "      <td>0.081334</td>\n",
       "      <td>0.180035</td>\n",
       "      <td>0.057228</td>\n",
       "      <td>0.128411</td>\n",
       "      <td>1.000000</td>\n",
       "      <td>-0.840084</td>\n",
       "      <td>0.085816</td>\n",
       "      <td>-0.005877</td>\n",
       "      <td>-0.012354</td>\n",
       "      <td>-0.004224</td>\n",
       "      <td>-0.002180</td>\n",
       "      <td>-0.043450</td>\n",
       "      <td>0.011799</td>\n",
       "      <td>0.081334</td>\n",
       "    </tr>\n",
       "  </tbody>\n",
       "</table>\n",
       "</div>"
      ],
      "text/plain": [
       "                is_referred  app_downloaded  web_user  app_web_user  ios_user  \\\n",
       "is_referred        1.000000        0.152472  0.053898      0.114101  0.081334   \n",
       "app_downloaded     0.152472        1.000000 -0.149679      0.252834  0.180035   \n",
       "web_user           0.053898       -0.149679  1.000000      0.912722  0.057228   \n",
       "app_web_user       0.114101        0.252834  0.912722      1.000000  0.128411   \n",
       "ios_user           0.081334        0.180035  0.057228      0.128411  1.000000   \n",
       "\n",
       "                android_user  registered_phones  waiting_4_loan  \\\n",
       "is_referred        -0.003460           0.068209       -0.002499   \n",
       "app_downloaded      0.266326           0.102973        0.003205   \n",
       "web_user           -0.113570           0.066851       -0.017310   \n",
       "app_web_user       -0.005246           0.107045       -0.015901   \n",
       "ios_user           -0.840084           0.085816       -0.005877   \n",
       "\n",
       "                cancelled_loan  received_loan  rejected_loan  \\\n",
       "is_referred          -0.006175      -0.020918      -0.022780   \n",
       "app_downloaded       -0.010095       0.016053      -0.004323   \n",
       "web_user              0.023472       0.027444       0.013028   \n",
       "app_web_user          0.019556       0.033043       0.010531   \n",
       "ios_user             -0.012354      -0.004224      -0.002180   \n",
       "\n",
       "                left_for_two_month_plus  left_for_one_month  is_referred  \n",
       "is_referred                    0.031459           -0.037725     1.000000  \n",
       "app_downloaded                -0.014080            0.005457     0.152472  \n",
       "web_user                       0.048120            0.037097     0.053898  \n",
       "app_web_user                   0.040415            0.039131     0.114101  \n",
       "ios_user                      -0.043450            0.011799     0.081334  "
      ]
     },
     "execution_count": 19,
     "metadata": {},
     "output_type": "execute_result"
    }
   ],
   "source": [
    "\n",
    "## Correlation Matrix\n",
    "sn.set(style=\"white\")\n",
    "\n",
    "# Compute the correlation matrix\n",
    "corr = dataset2.corr()\n",
    "corr.head()"
   ]
  },
  {
   "cell_type": "code",
   "execution_count": 20,
   "metadata": {},
   "outputs": [
    {
     "data": {
      "text/plain": [
       "<matplotlib.axes._subplots.AxesSubplot at 0x1a3ae95f4e0>"
      ]
     },
     "execution_count": 20,
     "metadata": {},
     "output_type": "execute_result"
    },
    {
     "data": {
      "image/png": "[encoded data removed]",
      "text/plain": [
       "<Figure size 1296x1080 with 2 Axes>"
      ]
     },
     "metadata": {},
     "output_type": "display_data"
    }
   ],
   "source": [
    "# Generate a mask for the upper triangle\n",
    "mask = np.zeros_like(corr, dtype=np.bool)\n",
    "mask[np.triu_indices_from(mask)] = True\n",
    "\n",
    "# Set up the matplotlib figure\n",
    "f, ax = plt.subplots(figsize=(18, 15))\n",
    "\n",
    "# Generate a custom diverging colormap\n",
    "cmap = sn.diverging_palette(220, 10, as_cmap=True)\n",
    "\n",
    "# Draw the heatmap with the mask and correct aspect ratio\n",
    "sn.heatmap(corr, mask=mask, cmap=cmap, vmax=.3, center=0,\n",
    "            square=True, linewidths=.5, cbar_kws={\"shrink\": .5})"
   ]
  },
  {
   "cell_type": "code",
   "execution_count": 21,
   "metadata": {},
   "outputs": [],
   "source": [
    "Newdata=pd.read_csv('new_churn_data.csv')"
   ]
  },
  {
   "cell_type": "code",
   "execution_count": 22,
   "metadata": {},
   "outputs": [
    {
     "data": {
      "text/html": [
       "<div>\n",
       "<style scoped>\n",
       "    .dataframe tbody tr th:only-of-type {\n",
       "        vertical-align: middle;\n",
       "    }\n",
       "\n",
       "    .dataframe tbody tr th {\n",
       "        vertical-align: top;\n",
       "    }\n",
       "\n",
       "    .dataframe thead th {\n",
       "        text-align: right;\n",
       "    }\n",
       "</style>\n",
       "<table border=\"1\" class=\"dataframe\">\n",
       "  <thead>\n",
       "    <tr style=\"text-align: right;\">\n",
       "      <th></th>\n",
       "      <th>user</th>\n",
       "      <th>churn</th>\n",
       "      <th>age</th>\n",
       "      <th>housing</th>\n",
       "      <th>deposits</th>\n",
       "      <th>withdrawal</th>\n",
       "      <th>purchases_partners</th>\n",
       "      <th>purchases</th>\n",
       "      <th>cc_taken</th>\n",
       "      <th>cc_recommended</th>\n",
       "      <th>...</th>\n",
       "      <th>payment_type</th>\n",
       "      <th>waiting_4_loan</th>\n",
       "      <th>cancelled_loan</th>\n",
       "      <th>received_loan</th>\n",
       "      <th>rejected_loan</th>\n",
       "      <th>zodiac_sign</th>\n",
       "      <th>left_for_two_month_plus</th>\n",
       "      <th>left_for_one_month</th>\n",
       "      <th>reward_rate</th>\n",
       "      <th>is_referred</th>\n",
       "    </tr>\n",
       "  </thead>\n",
       "  <tbody>\n",
       "    <tr>\n",
       "      <th>0</th>\n",
       "      <td>55409</td>\n",
       "      <td>0</td>\n",
       "      <td>37.0</td>\n",
       "      <td>na</td>\n",
       "      <td>0</td>\n",
       "      <td>0</td>\n",
       "      <td>0</td>\n",
       "      <td>0</td>\n",
       "      <td>0</td>\n",
       "      <td>0</td>\n",
       "      <td>...</td>\n",
       "      <td>Bi-Weekly</td>\n",
       "      <td>0</td>\n",
       "      <td>0</td>\n",
       "      <td>0</td>\n",
       "      <td>0</td>\n",
       "      <td>Leo</td>\n",
       "      <td>1</td>\n",
       "      <td>0</td>\n",
       "      <td>0.00</td>\n",
       "      <td>0</td>\n",
       "    </tr>\n",
       "    <tr>\n",
       "      <th>1</th>\n",
       "      <td>23547</td>\n",
       "      <td>0</td>\n",
       "      <td>28.0</td>\n",
       "      <td>R</td>\n",
       "      <td>0</td>\n",
       "      <td>0</td>\n",
       "      <td>1</td>\n",
       "      <td>0</td>\n",
       "      <td>0</td>\n",
       "      <td>96</td>\n",
       "      <td>...</td>\n",
       "      <td>Weekly</td>\n",
       "      <td>0</td>\n",
       "      <td>0</td>\n",
       "      <td>0</td>\n",
       "      <td>0</td>\n",
       "      <td>Leo</td>\n",
       "      <td>0</td>\n",
       "      <td>0</td>\n",
       "      <td>1.47</td>\n",
       "      <td>1</td>\n",
       "    </tr>\n",
       "    <tr>\n",
       "      <th>2</th>\n",
       "      <td>58313</td>\n",
       "      <td>0</td>\n",
       "      <td>35.0</td>\n",
       "      <td>R</td>\n",
       "      <td>47</td>\n",
       "      <td>2</td>\n",
       "      <td>86</td>\n",
       "      <td>47</td>\n",
       "      <td>0</td>\n",
       "      <td>285</td>\n",
       "      <td>...</td>\n",
       "      <td>Semi-Monthly</td>\n",
       "      <td>0</td>\n",
       "      <td>0</td>\n",
       "      <td>0</td>\n",
       "      <td>0</td>\n",
       "      <td>Capricorn</td>\n",
       "      <td>1</td>\n",
       "      <td>0</td>\n",
       "      <td>2.17</td>\n",
       "      <td>0</td>\n",
       "    </tr>\n",
       "    <tr>\n",
       "      <th>3</th>\n",
       "      <td>8095</td>\n",
       "      <td>0</td>\n",
       "      <td>26.0</td>\n",
       "      <td>R</td>\n",
       "      <td>26</td>\n",
       "      <td>3</td>\n",
       "      <td>38</td>\n",
       "      <td>25</td>\n",
       "      <td>0</td>\n",
       "      <td>74</td>\n",
       "      <td>...</td>\n",
       "      <td>Bi-Weekly</td>\n",
       "      <td>0</td>\n",
       "      <td>0</td>\n",
       "      <td>0</td>\n",
       "      <td>0</td>\n",
       "      <td>Capricorn</td>\n",
       "      <td>0</td>\n",
       "      <td>0</td>\n",
       "      <td>1.10</td>\n",
       "      <td>1</td>\n",
       "    </tr>\n",
       "    <tr>\n",
       "      <th>4</th>\n",
       "      <td>61353</td>\n",
       "      <td>1</td>\n",
       "      <td>27.0</td>\n",
       "      <td>na</td>\n",
       "      <td>0</td>\n",
       "      <td>0</td>\n",
       "      <td>2</td>\n",
       "      <td>0</td>\n",
       "      <td>0</td>\n",
       "      <td>0</td>\n",
       "      <td>...</td>\n",
       "      <td>Bi-Weekly</td>\n",
       "      <td>0</td>\n",
       "      <td>0</td>\n",
       "      <td>0</td>\n",
       "      <td>0</td>\n",
       "      <td>Aries</td>\n",
       "      <td>1</td>\n",
       "      <td>0</td>\n",
       "      <td>0.03</td>\n",
       "      <td>0</td>\n",
       "    </tr>\n",
       "  </tbody>\n",
       "</table>\n",
       "<p>5 rows × 29 columns</p>\n",
       "</div>"
      ],
      "text/plain": [
       "    user  churn   age housing  deposits  withdrawal  purchases_partners  \\\n",
       "0  55409      0  37.0      na         0           0                   0   \n",
       "1  23547      0  28.0       R         0           0                   1   \n",
       "2  58313      0  35.0       R        47           2                  86   \n",
       "3   8095      0  26.0       R        26           3                  38   \n",
       "4  61353      1  27.0      na         0           0                   2   \n",
       "\n",
       "   purchases  cc_taken  cc_recommended  ...  payment_type  waiting_4_loan  \\\n",
       "0          0         0               0  ...     Bi-Weekly               0   \n",
       "1          0         0              96  ...        Weekly               0   \n",
       "2         47         0             285  ...  Semi-Monthly               0   \n",
       "3         25         0              74  ...     Bi-Weekly               0   \n",
       "4          0         0               0  ...     Bi-Weekly               0   \n",
       "\n",
       "   cancelled_loan  received_loan  rejected_loan  zodiac_sign  \\\n",
       "0               0              0              0          Leo   \n",
       "1               0              0              0          Leo   \n",
       "2               0              0              0    Capricorn   \n",
       "3               0              0              0    Capricorn   \n",
       "4               0              0              0        Aries   \n",
       "\n",
       "   left_for_two_month_plus  left_for_one_month  reward_rate is_referred  \n",
       "0                        1                   0         0.00           0  \n",
       "1                        0                   0         1.47           1  \n",
       "2                        1                   0         2.17           0  \n",
       "3                        0                   0         1.10           1  \n",
       "4                        1                   0         0.03           0  \n",
       "\n",
       "[5 rows x 29 columns]"
      ]
     },
     "execution_count": 22,
     "metadata": {},
     "output_type": "execute_result"
    }
   ],
   "source": [
    "Newdata.head()"
   ]
  },
  {
   "cell_type": "code",
   "execution_count": 23,
   "metadata": {},
   "outputs": [],
   "source": [
    "user_identifier = Newdata['user']\n"
   ]
  },
  {
   "cell_type": "code",
   "execution_count": 24,
   "metadata": {},
   "outputs": [],
   "source": [
    "dataset1 = Newdata.drop(columns = ['user'])"
   ]
  },
  {
   "cell_type": "code",
   "execution_count": 25,
   "metadata": {},
   "outputs": [
    {
     "data": {
      "text/plain": [
       "na    13856\n",
       "R     10969\n",
       "O      2171\n",
       "Name: housing, dtype: int64"
      ]
     },
     "execution_count": 25,
     "metadata": {},
     "output_type": "execute_result"
    }
   ],
   "source": [
    "# One-Hot Encoding\n",
    "dataset1.housing.value_counts()"
   ]
  },
  {
   "cell_type": "code",
   "execution_count": 26,
   "metadata": {},
   "outputs": [],
   "source": [
    "dataset1 = pd.get_dummies(dataset1)"
   ]
  },
  {
   "cell_type": "code",
   "execution_count": 27,
   "metadata": {},
   "outputs": [
    {
     "data": {
      "text/plain": [
       "Index(['churn', 'age', 'deposits', 'withdrawal', 'purchases_partners',\n",
       "       'purchases', 'cc_taken', 'cc_recommended', 'cc_disliked', 'cc_liked',\n",
       "       'cc_application_begin', 'app_downloaded', 'web_user', 'app_web_user',\n",
       "       'ios_user', 'android_user', 'registered_phones', 'waiting_4_loan',\n",
       "       'cancelled_loan', 'received_loan', 'rejected_loan',\n",
       "       'left_for_two_month_plus', 'left_for_one_month', 'reward_rate',\n",
       "       'is_referred', 'housing_O', 'housing_R', 'housing_na',\n",
       "       'payment_type_Bi-Weekly', 'payment_type_Monthly',\n",
       "       'payment_type_Semi-Monthly', 'payment_type_Weekly', 'payment_type_na',\n",
       "       'zodiac_sign_Aquarius', 'zodiac_sign_Aries', 'zodiac_sign_Cancer',\n",
       "       'zodiac_sign_Capricorn', 'zodiac_sign_Gemini', 'zodiac_sign_Leo',\n",
       "       'zodiac_sign_Libra', 'zodiac_sign_Pisces', 'zodiac_sign_Sagittarius',\n",
       "       'zodiac_sign_Scorpio', 'zodiac_sign_Taurus', 'zodiac_sign_Virgo',\n",
       "       'zodiac_sign_na'],\n",
       "      dtype='object')"
      ]
     },
     "execution_count": 27,
     "metadata": {},
     "output_type": "execute_result"
    }
   ],
   "source": [
    "dataset1.columns"
   ]
  },
  {
   "cell_type": "code",
   "execution_count": 28,
   "metadata": {},
   "outputs": [
    {
     "name": "stdout",
     "output_type": "stream",
     "text": [
      "<class 'pandas.core.frame.DataFrame'>\n",
      "RangeIndex: 26996 entries, 0 to 26995\n",
      "Data columns (total 43 columns):\n",
      "churn                        26996 non-null int64\n",
      "age                          26996 non-null float64\n",
      "deposits                     26996 non-null int64\n",
      "withdrawal                   26996 non-null int64\n",
      "purchases_partners           26996 non-null int64\n",
      "purchases                    26996 non-null int64\n",
      "cc_taken                     26996 non-null int64\n",
      "cc_recommended               26996 non-null int64\n",
      "cc_disliked                  26996 non-null int64\n",
      "cc_liked                     26996 non-null int64\n",
      "cc_application_begin         26996 non-null int64\n",
      "app_downloaded               26996 non-null int64\n",
      "web_user                     26996 non-null int64\n",
      "app_web_user                 26996 non-null int64\n",
      "ios_user                     26996 non-null int64\n",
      "android_user                 26996 non-null int64\n",
      "registered_phones            26996 non-null int64\n",
      "waiting_4_loan               26996 non-null int64\n",
      "cancelled_loan               26996 non-null int64\n",
      "received_loan                26996 non-null int64\n",
      "rejected_loan                26996 non-null int64\n",
      "left_for_two_month_plus      26996 non-null int64\n",
      "left_for_one_month           26996 non-null int64\n",
      "reward_rate                  26996 non-null float64\n",
      "is_referred                  26996 non-null int64\n",
      "housing_O                    26996 non-null uint8\n",
      "housing_R                    26996 non-null uint8\n",
      "payment_type_Bi-Weekly       26996 non-null uint8\n",
      "payment_type_Monthly         26996 non-null uint8\n",
      "payment_type_Semi-Monthly    26996 non-null uint8\n",
      "payment_type_Weekly          26996 non-null uint8\n",
      "zodiac_sign_Aquarius         26996 non-null uint8\n",
      "zodiac_sign_Aries            26996 non-null uint8\n",
      "zodiac_sign_Cancer           26996 non-null uint8\n",
      "zodiac_sign_Capricorn        26996 non-null uint8\n",
      "zodiac_sign_Gemini           26996 non-null uint8\n",
      "zodiac_sign_Leo              26996 non-null uint8\n",
      "zodiac_sign_Libra            26996 non-null uint8\n",
      "zodiac_sign_Pisces           26996 non-null uint8\n",
      "zodiac_sign_Sagittarius      26996 non-null uint8\n",
      "zodiac_sign_Scorpio          26996 non-null uint8\n",
      "zodiac_sign_Taurus           26996 non-null uint8\n",
      "zodiac_sign_Virgo            26996 non-null uint8\n",
      "dtypes: float64(2), int64(23), uint8(18)\n",
      "memory usage: 5.6 MB\n"
     ]
    }
   ],
   "source": [
    "dataset1 = dataset1.drop(columns = ['housing_na', 'zodiac_sign_na', 'payment_type_na'])\n",
    "dataset1.info()"
   ]
  },
  {
   "cell_type": "code",
   "execution_count": 29,
   "metadata": {},
   "outputs": [],
   "source": [
    "# Splitting the dataset into the Training set and Test set\n",
    "from sklearn.model_selection import train_test_split\n",
    "X_train, X_test, y_train, y_test = train_test_split(dataset1.drop(columns = 'churn'), dataset1['churn'],\n",
    "                                                    test_size = 0.2,\n",
    "                                                    random_state = 0)"
   ]
  },
  {
   "cell_type": "code",
   "execution_count": 30,
   "metadata": {},
   "outputs": [
    {
     "data": {
      "text/plain": [
       "0    12656\n",
       "1     8940\n",
       "Name: churn, dtype: int64"
      ]
     },
     "execution_count": 30,
     "metadata": {},
     "output_type": "execute_result"
    }
   ],
   "source": [
    "y_train.value_counts()"
   ]
  },
  {
   "cell_type": "code",
   "execution_count": 31,
   "metadata": {},
   "outputs": [],
   "source": [
    "# Balancing the Training Set\n",
    "y_train.value_counts()\n",
    "\n",
    "pos_index = y_train[y_train.values == 1].index\n",
    "neg_index = y_train[y_train.values == 0].index\n",
    "\n",
    "if len(pos_index) > len(neg_index):\n",
    "    higher = pos_index\n",
    "    lower = neg_index\n",
    "else:\n",
    "    higher = neg_index\n",
    "    lower = pos_index\n",
    "\n",
    "random.seed(0)\n",
    "higher = np.random.choice(higher, size=len(lower))\n",
    "lower = np.asarray(lower)\n",
    "new_indexes = np.concatenate((lower, higher))\n",
    "\n",
    "X_train = X_train.loc[new_indexes,]\n",
    "y_train = y_train[new_indexes]"
   ]
  },
  {
   "cell_type": "code",
   "execution_count": 32,
   "metadata": {},
   "outputs": [
    {
     "name": "stderr",
     "output_type": "stream",
     "text": [
      "C:\\Users\\Anuj_sahay\\Anaconda3\\lib\\site-packages\\sklearn\\preprocessing\\data.py:645: DataConversionWarning: Data with input dtype uint8, int64, float64 were all converted to float64 by StandardScaler.\n",
      "  return self.partial_fit(X, y)\n",
      "C:\\Users\\Anuj_sahay\\Anaconda3\\lib\\site-packages\\sklearn\\base.py:464: DataConversionWarning: Data with input dtype uint8, int64, float64 were all converted to float64 by StandardScaler.\n",
      "  return self.fit(X, **fit_params).transform(X)\n",
      "C:\\Users\\Anuj_sahay\\Anaconda3\\lib\\site-packages\\ipykernel_launcher.py:5: DataConversionWarning: Data with input dtype uint8, int64, float64 were all converted to float64 by StandardScaler.\n",
      "  \"\"\"\n"
     ]
    }
   ],
   "source": [
    "# Feature Scaling\n",
    "from sklearn.preprocessing import StandardScaler\n",
    "sc_X = StandardScaler()\n",
    "X_train2 = pd.DataFrame(sc_X.fit_transform(X_train))\n",
    "X_test2 = pd.DataFrame(sc_X.transform(X_test))\n",
    "X_train2.columns = X_train.columns.values\n",
    "X_test2.columns = X_test.columns.values\n",
    "X_train2.index = X_train.index.values\n",
    "X_test2.index = X_test.index.values\n",
    "X_train = X_train2\n",
    "X_test = X_test2"
   ]
  },
  {
   "cell_type": "code",
   "execution_count": 33,
   "metadata": {},
   "outputs": [
    {
     "name": "stderr",
     "output_type": "stream",
     "text": [
      "C:\\Users\\Anuj_sahay\\Anaconda3\\lib\\site-packages\\sklearn\\linear_model\\logistic.py:433: FutureWarning: Default solver will be changed to 'lbfgs' in 0.22. Specify a solver to silence this warning.\n",
      "  FutureWarning)\n"
     ]
    }
   ],
   "source": [
    "#### Model Building ####\n",
    "\n",
    "### Comparing Models\n",
    "\n",
    "## Logistic Regression\n",
    "from sklearn.linear_model import LogisticRegression\n",
    "classifier = LogisticRegression(random_state = 0, penalty = 'l1')\n",
    "classifier.fit(X_train, y_train)\n",
    "\n",
    "# Predicting Test Set\n",
    "y_pred = classifier.predict(X_test)\n",
    "from sklearn.metrics import confusion_matrix, accuracy_score, f1_score, precision_score, recall_score\n",
    "acc = accuracy_score(y_test, y_pred)\n",
    "prec = precision_score(y_test, y_pred)\n",
    "rec = recall_score(y_test, y_pred)\n",
    "f1 = f1_score(y_test, y_pred)\n",
    "\n",
    "results = pd.DataFrame([['Linear Regression (Lasso)', acc, prec, rec, f1]],\n",
    "               columns = ['Model', 'Accuracy', 'Precision', 'Recall', 'F1 Score'])\n"
   ]
  },
  {
   "cell_type": "code",
   "execution_count": 34,
   "metadata": {},
   "outputs": [
    {
     "data": {
      "text/html": [
       "<div>\n",
       "<style scoped>\n",
       "    .dataframe tbody tr th:only-of-type {\n",
       "        vertical-align: middle;\n",
       "    }\n",
       "\n",
       "    .dataframe tbody tr th {\n",
       "        vertical-align: top;\n",
       "    }\n",
       "\n",
       "    .dataframe thead th {\n",
       "        text-align: right;\n",
       "    }\n",
       "</style>\n",
       "<table border=\"1\" class=\"dataframe\">\n",
       "  <thead>\n",
       "    <tr style=\"text-align: right;\">\n",
       "      <th></th>\n",
       "      <th>Model</th>\n",
       "      <th>Accuracy</th>\n",
       "      <th>Precision</th>\n",
       "      <th>Recall</th>\n",
       "      <th>F1 Score</th>\n",
       "    </tr>\n",
       "  </thead>\n",
       "  <tbody>\n",
       "    <tr>\n",
       "      <th>0</th>\n",
       "      <td>Linear Regression (Lasso)</td>\n",
       "      <td>0.615556</td>\n",
       "      <td>0.525143</td>\n",
       "      <td>0.738585</td>\n",
       "      <td>0.613839</td>\n",
       "    </tr>\n",
       "  </tbody>\n",
       "</table>\n",
       "</div>"
      ],
      "text/plain": [
       "                       Model  Accuracy  Precision    Recall  F1 Score\n",
       "0  Linear Regression (Lasso)  0.615556   0.525143  0.738585  0.613839"
      ]
     },
     "execution_count": 34,
     "metadata": {},
     "output_type": "execute_result"
    }
   ],
   "source": [
    "results"
   ]
  },
  {
   "cell_type": "code",
   "execution_count": 35,
   "metadata": {},
   "outputs": [],
   "source": [
    "## SVM (rbf)\n",
    "from sklearn.svm import SVC\n",
    "classifier = SVC(random_state = 0, kernel = 'rbf')\n",
    "classifier.fit(X_train, y_train)\n",
    "\n",
    "# Predicting Test Set\n",
    "y_pred = classifier.predict(X_test)\n",
    "acc = accuracy_score(y_test, y_pred)\n",
    "prec = precision_score(y_test, y_pred)\n",
    "rec = recall_score(y_test, y_pred)\n",
    "f1 = f1_score(y_test, y_pred)\n",
    "\n",
    "model_results = pd.DataFrame([['SVM (RBF)', acc, prec, rec, f1]],\n",
    "               columns = ['Model', 'Accuracy', 'Precision', 'Recall', 'F1 Score'])\n",
    "\n",
    "results = results.append(model_results, ignore_index = True)"
   ]
  },
  {
   "cell_type": "code",
   "execution_count": 36,
   "metadata": {},
   "outputs": [],
   "source": [
    "## Randomforest\n",
    "from sklearn.ensemble import RandomForestClassifier\n",
    "classifier = RandomForestClassifier(random_state = 0, n_estimators = 100,\n",
    "                                    criterion = 'entropy')\n",
    "classifier.fit(X_train, y_train)\n",
    "\n",
    "# Predicting Test Set\n",
    "y_pred = classifier.predict(X_test)\n",
    "acc = accuracy_score(y_test, y_pred)\n",
    "prec = precision_score(y_test, y_pred)\n",
    "rec = recall_score(y_test, y_pred)\n",
    "f1 = f1_score(y_test, y_pred)\n",
    "\n",
    "model_results = pd.DataFrame([['Random Forest (n=100)', acc, prec, rec, f1]],\n",
    "               columns = ['Model', 'Accuracy', 'Precision', 'Recall', 'F1 Score'])\n",
    "\n",
    "results = results.append(model_results, ignore_index = True)"
   ]
  },
  {
   "cell_type": "code",
   "execution_count": 37,
   "metadata": {},
   "outputs": [
    {
     "data": {
      "text/html": [
       "<div>\n",
       "<style scoped>\n",
       "    .dataframe tbody tr th:only-of-type {\n",
       "        vertical-align: middle;\n",
       "    }\n",
       "\n",
       "    .dataframe tbody tr th {\n",
       "        vertical-align: top;\n",
       "    }\n",
       "\n",
       "    .dataframe thead th {\n",
       "        text-align: right;\n",
       "    }\n",
       "</style>\n",
       "<table border=\"1\" class=\"dataframe\">\n",
       "  <thead>\n",
       "    <tr style=\"text-align: right;\">\n",
       "      <th></th>\n",
       "      <th>Model</th>\n",
       "      <th>Accuracy</th>\n",
       "      <th>Precision</th>\n",
       "      <th>Recall</th>\n",
       "      <th>F1 Score</th>\n",
       "    </tr>\n",
       "  </thead>\n",
       "  <tbody>\n",
       "    <tr>\n",
       "      <th>0</th>\n",
       "      <td>Linear Regression (Lasso)</td>\n",
       "      <td>0.615556</td>\n",
       "      <td>0.525143</td>\n",
       "      <td>0.738585</td>\n",
       "      <td>0.613839</td>\n",
       "    </tr>\n",
       "    <tr>\n",
       "      <th>1</th>\n",
       "      <td>SVM (RBF)</td>\n",
       "      <td>0.632037</td>\n",
       "      <td>0.540163</td>\n",
       "      <td>0.743509</td>\n",
       "      <td>0.625730</td>\n",
       "    </tr>\n",
       "    <tr>\n",
       "      <th>2</th>\n",
       "      <td>Random Forest (n=100)</td>\n",
       "      <td>0.681481</td>\n",
       "      <td>0.591329</td>\n",
       "      <td>0.744852</td>\n",
       "      <td>0.659271</td>\n",
       "    </tr>\n",
       "  </tbody>\n",
       "</table>\n",
       "</div>"
      ],
      "text/plain": [
       "                       Model  Accuracy  Precision    Recall  F1 Score\n",
       "0  Linear Regression (Lasso)  0.615556   0.525143  0.738585  0.613839\n",
       "1                  SVM (RBF)  0.632037   0.540163  0.743509  0.625730\n",
       "2      Random Forest (n=100)  0.681481   0.591329  0.744852  0.659271"
      ]
     },
     "execution_count": 37,
     "metadata": {},
     "output_type": "execute_result"
    }
   ],
   "source": [
    "results"
   ]
  },
  {
   "cell_type": "code",
   "execution_count": 38,
   "metadata": {},
   "outputs": [
    {
     "name": "stdout",
     "output_type": "stream",
     "text": [
      "Test Data Accuracy: 0.6815\n"
     ]
    },
    {
     "data": {
      "image/png": "[encoded data removed]",
      "text/plain": [
       "<Figure size 720x504 with 2 Axes>"
      ]
     },
     "metadata": {},
     "output_type": "display_data"
    }
   ],
   "source": [
    "## Confusion Matrix\n",
    "cm = confusion_matrix(y_test, y_pred) # rows = truth, cols = prediction\n",
    "df_cm = pd.DataFrame(cm, index = (0, 1), columns = (0, 1))\n",
    "plt.figure(figsize = (10,7))\n",
    "sn.set(font_scale=1.4)\n",
    "sn.heatmap(df_cm, annot=True, fmt='g')\n",
    "print(\"Test Data Accuracy: %0.4f\" % accuracy_score(y_test, y_pred))"
   ]
  },
  {
   "cell_type": "code",
   "execution_count": 39,
   "metadata": {},
   "outputs": [
    {
     "data": {
      "text/html": [
       "<div>\n",
       "<style scoped>\n",
       "    .dataframe tbody tr th:only-of-type {\n",
       "        vertical-align: middle;\n",
       "    }\n",
       "\n",
       "    .dataframe tbody tr th {\n",
       "        vertical-align: top;\n",
       "    }\n",
       "\n",
       "    .dataframe thead th {\n",
       "        text-align: right;\n",
       "    }\n",
       "</style>\n",
       "<table border=\"1\" class=\"dataframe\">\n",
       "  <thead>\n",
       "    <tr style=\"text-align: right;\">\n",
       "      <th></th>\n",
       "      <th>Model</th>\n",
       "      <th>Accuracy</th>\n",
       "      <th>Precision</th>\n",
       "      <th>Recall</th>\n",
       "      <th>F1 Score</th>\n",
       "    </tr>\n",
       "  </thead>\n",
       "  <tbody>\n",
       "    <tr>\n",
       "      <th>0</th>\n",
       "      <td>Linear Regression (Lasso)</td>\n",
       "      <td>0.615556</td>\n",
       "      <td>0.525143</td>\n",
       "      <td>0.738585</td>\n",
       "      <td>0.613839</td>\n",
       "    </tr>\n",
       "    <tr>\n",
       "      <th>1</th>\n",
       "      <td>SVM (RBF)</td>\n",
       "      <td>0.632037</td>\n",
       "      <td>0.540163</td>\n",
       "      <td>0.743509</td>\n",
       "      <td>0.625730</td>\n",
       "    </tr>\n",
       "    <tr>\n",
       "      <th>2</th>\n",
       "      <td>Random Forest (n=100)</td>\n",
       "      <td>0.681481</td>\n",
       "      <td>0.591329</td>\n",
       "      <td>0.744852</td>\n",
       "      <td>0.659271</td>\n",
       "    </tr>\n",
       "  </tbody>\n",
       "</table>\n",
       "</div>"
      ],
      "text/plain": [
       "                       Model  Accuracy  Precision    Recall  F1 Score\n",
       "0  Linear Regression (Lasso)  0.615556   0.525143  0.738585  0.613839\n",
       "1                  SVM (RBF)  0.632037   0.540163  0.743509  0.625730\n",
       "2      Random Forest (n=100)  0.681481   0.591329  0.744852  0.659271"
      ]
     },
     "execution_count": 39,
     "metadata": {},
     "output_type": "execute_result"
    }
   ],
   "source": [
    "results"
   ]
  },
  {
   "cell_type": "code",
   "execution_count": 40,
   "metadata": {},
   "outputs": [
    {
     "name": "stdout",
     "output_type": "stream",
     "text": [
      "Random Forest Classifier Accuracy: 0.78 (+/- 0.02)\n"
     ]
    }
   ],
   "source": [
    "## K-fold Cross Validation\n",
    "from sklearn.model_selection import cross_val_score\n",
    "accuracies = cross_val_score(estimator = classifier, X= X_train, y = y_train,\n",
    "                             cv = 10)\n",
    "print(\"Random Forest Classifier Accuracy: %0.2f (+/- %0.2f)\"  % (accuracies.mean(), accuracies.std() * 2))\n"
   ]
  },
  {
   "cell_type": "code",
   "execution_count": 41,
   "metadata": {},
   "outputs": [],
   "source": [
    "#### Feature Selection ####\n",
    "\n",
    "\n",
    "## Feature Selection\n",
    "# Recursive Feature Elimination\n",
    "from sklearn.feature_selection import RFE\n",
    "from sklearn.ensemble import RandomForestClassifier\n",
    "classifier = RandomForestClassifier()\n"
   ]
  },
  {
   "cell_type": "code",
   "execution_count": 42,
   "metadata": {},
   "outputs": [
    {
     "data": {
      "text/plain": [
       "(17880, 42)"
      ]
     },
     "execution_count": 42,
     "metadata": {},
     "output_type": "execute_result"
    }
   ],
   "source": [
    "X_train.shape"
   ]
  },
  {
   "cell_type": "code",
   "execution_count": 43,
   "metadata": {},
   "outputs": [
    {
     "name": "stderr",
     "output_type": "stream",
     "text": [
      "C:\\Users\\Anuj_sahay\\Anaconda3\\lib\\site-packages\\sklearn\\ensemble\\forest.py:246: FutureWarning: The default value of n_estimators will change from 10 in version 0.20 to 100 in 0.22.\n",
      "  \"10 in version 0.20 to 100 in 0.22.\", FutureWarning)\n",
      "C:\\Users\\Anuj_sahay\\Anaconda3\\lib\\site-packages\\sklearn\\ensemble\\forest.py:246: FutureWarning: The default value of n_estimators will change from 10 in version 0.20 to 100 in 0.22.\n",
      "  \"10 in version 0.20 to 100 in 0.22.\", FutureWarning)\n",
      "C:\\Users\\Anuj_sahay\\Anaconda3\\lib\\site-packages\\sklearn\\ensemble\\forest.py:246: FutureWarning: The default value of n_estimators will change from 10 in version 0.20 to 100 in 0.22.\n",
      "  \"10 in version 0.20 to 100 in 0.22.\", FutureWarning)\n",
      "C:\\Users\\Anuj_sahay\\Anaconda3\\lib\\site-packages\\sklearn\\ensemble\\forest.py:246: FutureWarning: The default value of n_estimators will change from 10 in version 0.20 to 100 in 0.22.\n",
      "  \"10 in version 0.20 to 100 in 0.22.\", FutureWarning)\n",
      "C:\\Users\\Anuj_sahay\\Anaconda3\\lib\\site-packages\\sklearn\\ensemble\\forest.py:246: FutureWarning: The default value of n_estimators will change from 10 in version 0.20 to 100 in 0.22.\n",
      "  \"10 in version 0.20 to 100 in 0.22.\", FutureWarning)\n",
      "C:\\Users\\Anuj_sahay\\Anaconda3\\lib\\site-packages\\sklearn\\ensemble\\forest.py:246: FutureWarning: The default value of n_estimators will change from 10 in version 0.20 to 100 in 0.22.\n",
      "  \"10 in version 0.20 to 100 in 0.22.\", FutureWarning)\n",
      "C:\\Users\\Anuj_sahay\\Anaconda3\\lib\\site-packages\\sklearn\\ensemble\\forest.py:246: FutureWarning: The default value of n_estimators will change from 10 in version 0.20 to 100 in 0.22.\n",
      "  \"10 in version 0.20 to 100 in 0.22.\", FutureWarning)\n",
      "C:\\Users\\Anuj_sahay\\Anaconda3\\lib\\site-packages\\sklearn\\ensemble\\forest.py:246: FutureWarning: The default value of n_estimators will change from 10 in version 0.20 to 100 in 0.22.\n",
      "  \"10 in version 0.20 to 100 in 0.22.\", FutureWarning)\n",
      "C:\\Users\\Anuj_sahay\\Anaconda3\\lib\\site-packages\\sklearn\\ensemble\\forest.py:246: FutureWarning: The default value of n_estimators will change from 10 in version 0.20 to 100 in 0.22.\n",
      "  \"10 in version 0.20 to 100 in 0.22.\", FutureWarning)\n",
      "C:\\Users\\Anuj_sahay\\Anaconda3\\lib\\site-packages\\sklearn\\ensemble\\forest.py:246: FutureWarning: The default value of n_estimators will change from 10 in version 0.20 to 100 in 0.22.\n",
      "  \"10 in version 0.20 to 100 in 0.22.\", FutureWarning)\n",
      "C:\\Users\\Anuj_sahay\\Anaconda3\\lib\\site-packages\\sklearn\\ensemble\\forest.py:246: FutureWarning: The default value of n_estimators will change from 10 in version 0.20 to 100 in 0.22.\n",
      "  \"10 in version 0.20 to 100 in 0.22.\", FutureWarning)\n",
      "C:\\Users\\Anuj_sahay\\Anaconda3\\lib\\site-packages\\sklearn\\ensemble\\forest.py:246: FutureWarning: The default value of n_estimators will change from 10 in version 0.20 to 100 in 0.22.\n",
      "  \"10 in version 0.20 to 100 in 0.22.\", FutureWarning)\n",
      "C:\\Users\\Anuj_sahay\\Anaconda3\\lib\\site-packages\\sklearn\\ensemble\\forest.py:246: FutureWarning: The default value of n_estimators will change from 10 in version 0.20 to 100 in 0.22.\n",
      "  \"10 in version 0.20 to 100 in 0.22.\", FutureWarning)\n",
      "C:\\Users\\Anuj_sahay\\Anaconda3\\lib\\site-packages\\sklearn\\ensemble\\forest.py:246: FutureWarning: The default value of n_estimators will change from 10 in version 0.20 to 100 in 0.22.\n",
      "  \"10 in version 0.20 to 100 in 0.22.\", FutureWarning)\n",
      "C:\\Users\\Anuj_sahay\\Anaconda3\\lib\\site-packages\\sklearn\\ensemble\\forest.py:246: FutureWarning: The default value of n_estimators will change from 10 in version 0.20 to 100 in 0.22.\n",
      "  \"10 in version 0.20 to 100 in 0.22.\", FutureWarning)\n",
      "C:\\Users\\Anuj_sahay\\Anaconda3\\lib\\site-packages\\sklearn\\ensemble\\forest.py:246: FutureWarning: The default value of n_estimators will change from 10 in version 0.20 to 100 in 0.22.\n",
      "  \"10 in version 0.20 to 100 in 0.22.\", FutureWarning)\n",
      "C:\\Users\\Anuj_sahay\\Anaconda3\\lib\\site-packages\\sklearn\\ensemble\\forest.py:246: FutureWarning: The default value of n_estimators will change from 10 in version 0.20 to 100 in 0.22.\n",
      "  \"10 in version 0.20 to 100 in 0.22.\", FutureWarning)\n",
      "C:\\Users\\Anuj_sahay\\Anaconda3\\lib\\site-packages\\sklearn\\ensemble\\forest.py:246: FutureWarning: The default value of n_estimators will change from 10 in version 0.20 to 100 in 0.22.\n",
      "  \"10 in version 0.20 to 100 in 0.22.\", FutureWarning)\n",
      "C:\\Users\\Anuj_sahay\\Anaconda3\\lib\\site-packages\\sklearn\\ensemble\\forest.py:246: FutureWarning: The default value of n_estimators will change from 10 in version 0.20 to 100 in 0.22.\n",
      "  \"10 in version 0.20 to 100 in 0.22.\", FutureWarning)\n",
      "C:\\Users\\Anuj_sahay\\Anaconda3\\lib\\site-packages\\sklearn\\ensemble\\forest.py:246: FutureWarning: The default value of n_estimators will change from 10 in version 0.20 to 100 in 0.22.\n",
      "  \"10 in version 0.20 to 100 in 0.22.\", FutureWarning)\n",
      "C:\\Users\\Anuj_sahay\\Anaconda3\\lib\\site-packages\\sklearn\\ensemble\\forest.py:246: FutureWarning: The default value of n_estimators will change from 10 in version 0.20 to 100 in 0.22.\n",
      "  \"10 in version 0.20 to 100 in 0.22.\", FutureWarning)\n",
      "C:\\Users\\Anuj_sahay\\Anaconda3\\lib\\site-packages\\sklearn\\ensemble\\forest.py:246: FutureWarning: The default value of n_estimators will change from 10 in version 0.20 to 100 in 0.22.\n",
      "  \"10 in version 0.20 to 100 in 0.22.\", FutureWarning)\n",
      "C:\\Users\\Anuj_sahay\\Anaconda3\\lib\\site-packages\\sklearn\\ensemble\\forest.py:246: FutureWarning: The default value of n_estimators will change from 10 in version 0.20 to 100 in 0.22.\n",
      "  \"10 in version 0.20 to 100 in 0.22.\", FutureWarning)\n"
     ]
    }
   ],
   "source": [
    "# Select Best X Features\n",
    "rfe = RFE(classifier, 20)\n",
    "rfe = rfe.fit(X_train, y_train)"
   ]
  },
  {
   "cell_type": "code",
   "execution_count": 44,
   "metadata": {},
   "outputs": [
    {
     "name": "stdout",
     "output_type": "stream",
     "text": [
      "[ True  True  True  True  True False  True False False  True False False\n",
      "  True  True  True  True False False False False  True False  True  True\n",
      " False  True  True False False  True False False False False False  True\n",
      " False False False False  True  True]\n",
      "[ 1  1  1  1  1 14  1 19 20  1 21  8  1  1  1  1 23 16 15 22  1 18  1  1\n",
      " 13  1  1 12 11  1  7  4 10 17  2  1  3  9  5  6  1  1]\n"
     ]
    },
    {
     "data": {
      "text/plain": [
       "Index(['age', 'deposits', 'withdrawal', 'purchases_partners', 'purchases',\n",
       "       'cc_recommended', 'cc_application_begin', 'app_web_user', 'ios_user',\n",
       "       'android_user', 'registered_phones', 'left_for_two_month_plus',\n",
       "       'reward_rate', 'is_referred', 'housing_R', 'payment_type_Bi-Weekly',\n",
       "       'payment_type_Weekly', 'zodiac_sign_Leo', 'zodiac_sign_Taurus',\n",
       "       'zodiac_sign_Virgo'],\n",
       "      dtype='object')"
      ]
     },
     "execution_count": 44,
     "metadata": {},
     "output_type": "execute_result"
    }
   ],
   "source": [
    "# summarize the selection of the attributes\n",
    "print(rfe.support_)\n",
    "print(rfe.ranking_)\n",
    "X_train.columns[rfe.support_]\n"
   ]
  },
  {
   "cell_type": "code",
   "execution_count": 45,
   "metadata": {},
   "outputs": [],
   "source": [
    "corr = X_train[X_train.columns[rfe.support_]].corr()"
   ]
  },
  {
   "cell_type": "code",
   "execution_count": 46,
   "metadata": {},
   "outputs": [
    {
     "data": {
      "text/plain": [
       "<matplotlib.axes._subplots.AxesSubplot at 0x1a3b1f28eb8>"
      ]
     },
     "execution_count": 46,
     "metadata": {},
     "output_type": "execute_result"
    },
    {
     "data": {
      "image/png": "[encoded data removed]",
      "text/plain": [
       "<Figure size 1296x1080 with 2 Axes>"
      ]
     },
     "metadata": {},
     "output_type": "display_data"
    }
   ],
   "source": [
    "# Generate a mask for the upper triangle\n",
    "mask = np.zeros_like(corr, dtype=np.bool)\n",
    "mask[np.triu_indices_from(mask)] = True\n",
    "\n",
    "# Set up the matplotlib figure\n",
    "f, ax = plt.subplots(figsize=(18, 15))\n",
    "\n",
    "# Generate a custom diverging colormap\n",
    "cmap = sn.diverging_palette(220, 10, as_cmap=True)\n",
    "\n",
    "# Draw the heatmap with the mask and correct aspect ratio\n",
    "sn.heatmap(corr, mask=mask, cmap=cmap, vmax=.3, center=0,\n",
    "            square=True, linewidths=.5, cbar_kws={\"shrink\": .5})"
   ]
  },
  {
   "cell_type": "code",
   "execution_count": 47,
   "metadata": {},
   "outputs": [],
   "source": [
    "## Randomforest\n",
    "from sklearn.ensemble import RandomForestClassifier\n",
    "classifier = RandomForestClassifier(random_state = 0, n_estimators = 100,\n",
    "                                    criterion = 'entropy')\n",
    "classifier.fit(X_train[X_train.columns[rfe.support_]], y_train)\n",
    "\n",
    "# Predicting Test Set\n",
    "y_pred = classifier.predict(X_test[X_train.columns[rfe.support_]])\n",
    "acc = accuracy_score(y_test, y_pred)\n",
    "prec = precision_score(y_test, y_pred)\n",
    "rec = recall_score(y_test, y_pred)\n",
    "f1 = f1_score(y_test, y_pred)\n",
    "\n",
    "model_results = pd.DataFrame([['Random Forest after new Feature selection', acc, prec, rec, f1]],\n",
    "               columns = ['Model', 'Accuracy', 'Precision', 'Recall', 'F1 Score'])\n",
    "\n",
    "results = results.append(model_results, ignore_index = True)\n"
   ]
  },
  {
   "cell_type": "code",
   "execution_count": 48,
   "metadata": {},
   "outputs": [
    {
     "data": {
      "text/html": [
       "<div>\n",
       "<style scoped>\n",
       "    .dataframe tbody tr th:only-of-type {\n",
       "        vertical-align: middle;\n",
       "    }\n",
       "\n",
       "    .dataframe tbody tr th {\n",
       "        vertical-align: top;\n",
       "    }\n",
       "\n",
       "    .dataframe thead th {\n",
       "        text-align: right;\n",
       "    }\n",
       "</style>\n",
       "<table border=\"1\" class=\"dataframe\">\n",
       "  <thead>\n",
       "    <tr style=\"text-align: right;\">\n",
       "      <th></th>\n",
       "      <th>Model</th>\n",
       "      <th>Accuracy</th>\n",
       "      <th>Precision</th>\n",
       "      <th>Recall</th>\n",
       "      <th>F1 Score</th>\n",
       "    </tr>\n",
       "  </thead>\n",
       "  <tbody>\n",
       "    <tr>\n",
       "      <th>0</th>\n",
       "      <td>Linear Regression (Lasso)</td>\n",
       "      <td>0.615556</td>\n",
       "      <td>0.525143</td>\n",
       "      <td>0.738585</td>\n",
       "      <td>0.613839</td>\n",
       "    </tr>\n",
       "    <tr>\n",
       "      <th>1</th>\n",
       "      <td>SVM (RBF)</td>\n",
       "      <td>0.632037</td>\n",
       "      <td>0.540163</td>\n",
       "      <td>0.743509</td>\n",
       "      <td>0.625730</td>\n",
       "    </tr>\n",
       "    <tr>\n",
       "      <th>2</th>\n",
       "      <td>Random Forest (n=100)</td>\n",
       "      <td>0.681481</td>\n",
       "      <td>0.591329</td>\n",
       "      <td>0.744852</td>\n",
       "      <td>0.659271</td>\n",
       "    </tr>\n",
       "    <tr>\n",
       "      <th>3</th>\n",
       "      <td>Random Forest after new Feature selection</td>\n",
       "      <td>0.676111</td>\n",
       "      <td>0.587324</td>\n",
       "      <td>0.730081</td>\n",
       "      <td>0.650968</td>\n",
       "    </tr>\n",
       "  </tbody>\n",
       "</table>\n",
       "</div>"
      ],
      "text/plain": [
       "                                       Model  Accuracy  Precision    Recall  \\\n",
       "0                  Linear Regression (Lasso)  0.615556   0.525143  0.738585   \n",
       "1                                  SVM (RBF)  0.632037   0.540163  0.743509   \n",
       "2                      Random Forest (n=100)  0.681481   0.591329  0.744852   \n",
       "3  Random Forest after new Feature selection  0.676111   0.587324  0.730081   \n",
       "\n",
       "   F1 Score  \n",
       "0  0.613839  \n",
       "1  0.625730  \n",
       "2  0.659271  \n",
       "3  0.650968  "
      ]
     },
     "execution_count": 48,
     "metadata": {},
     "output_type": "execute_result"
    }
   ],
   "source": [
    "results"
   ]
  },
  {
   "cell_type": "code",
   "execution_count": 49,
   "metadata": {},
   "outputs": [
    {
     "name": "stdout",
     "output_type": "stream",
     "text": [
      "Random Forest Classifier Accuracy: 0.78 (+/- 0.02)\n"
     ]
    }
   ],
   "source": [
    "## K-fold Cross Validation\n",
    "from sklearn.model_selection import cross_val_score\n",
    "accuracies = cross_val_score(estimator = classifier, X= X_train, y = y_train,\n",
    "                             cv = 10)\n",
    "print(\"Random Forest Classifier Accuracy: %0.2f (+/- %0.2f)\"  % (accuracies.mean(), accuracies.std() * 2))\n"
   ]
  },
  {
   "cell_type": "code",
   "execution_count": 50,
   "metadata": {},
   "outputs": [],
   "source": [
    "\n",
    "# Formatting Final Results\n",
    "final_results = pd.concat([y_test, user_identifier], axis = 1).dropna()\n",
    "final_results['predicted_churn'] = y_pred\n",
    "final_results = final_results[['user', 'churn', 'predicted_churn']].reset_index(drop=True)\n"
   ]
  },
  {
   "cell_type": "code",
   "execution_count": 51,
   "metadata": {},
   "outputs": [
    {
     "data": {
      "text/html": [
       "<div>\n",
       "<style scoped>\n",
       "    .dataframe tbody tr th:only-of-type {\n",
       "        vertical-align: middle;\n",
       "    }\n",
       "\n",
       "    .dataframe tbody tr th {\n",
       "        vertical-align: top;\n",
       "    }\n",
       "\n",
       "    .dataframe thead th {\n",
       "        text-align: right;\n",
       "    }\n",
       "</style>\n",
       "<table border=\"1\" class=\"dataframe\">\n",
       "  <thead>\n",
       "    <tr style=\"text-align: right;\">\n",
       "      <th></th>\n",
       "      <th>user</th>\n",
       "      <th>churn</th>\n",
       "      <th>predicted_churn</th>\n",
       "    </tr>\n",
       "  </thead>\n",
       "  <tbody>\n",
       "    <tr>\n",
       "      <th>0</th>\n",
       "      <td>61353</td>\n",
       "      <td>1.0</td>\n",
       "      <td>1</td>\n",
       "    </tr>\n",
       "    <tr>\n",
       "      <th>1</th>\n",
       "      <td>67679</td>\n",
       "      <td>0.0</td>\n",
       "      <td>0</td>\n",
       "    </tr>\n",
       "    <tr>\n",
       "      <th>2</th>\n",
       "      <td>21269</td>\n",
       "      <td>0.0</td>\n",
       "      <td>1</td>\n",
       "    </tr>\n",
       "    <tr>\n",
       "      <th>3</th>\n",
       "      <td>69531</td>\n",
       "      <td>0.0</td>\n",
       "      <td>1</td>\n",
       "    </tr>\n",
       "    <tr>\n",
       "      <th>4</th>\n",
       "      <td>25997</td>\n",
       "      <td>0.0</td>\n",
       "      <td>0</td>\n",
       "    </tr>\n",
       "  </tbody>\n",
       "</table>\n",
       "</div>"
      ],
      "text/plain": [
       "    user  churn  predicted_churn\n",
       "0  61353    1.0                1\n",
       "1  67679    0.0                0\n",
       "2  21269    0.0                1\n",
       "3  69531    0.0                1\n",
       "4  25997    0.0                0"
      ]
     },
     "execution_count": 51,
     "metadata": {},
     "output_type": "execute_result"
    }
   ],
   "source": [
    "final_results.head()"
   ]
  }
 ],
 "metadata": {
  "kernelspec": {
   "display_name": "Python 3",
   "language": "python",
   "name": "python3"
  },
  "language_info": {
   "codemirror_mode": {
    "name": "ipython",
    "version": 3
   },
   "file_extension": ".py",
   "mimetype": "text/x-python",
   "name": "python",
   "nbconvert_exporter": "python",
   "pygments_lexer": "ipython3",
   "version": "3.7.3"
  }
 },
 "nbformat": 4,
 "nbformat_minor": 2
}
