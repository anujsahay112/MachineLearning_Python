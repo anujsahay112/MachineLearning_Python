{
 "cells": [
  {
   "cell_type": "markdown",
   "metadata": {},
   "source": [
    "# Linear Regression from scratch"
   ]
  },
  {
   "cell_type": "code",
   "execution_count": 1,
   "metadata": {},
   "outputs": [],
   "source": [
    "# Importing Libraries\n",
    "# Here in my Linear regression function i did not require numpy however to verify my model i had to use it"
   ]
  },
  {
   "cell_type": "code",
   "execution_count": 2,
   "metadata": {},
   "outputs": [],
   "source": [
    "import numpy as np\n",
    "import matplotlib.pyplot as plt"
   ]
  },
  {
   "cell_type": "code",
   "execution_count": 3,
   "metadata": {},
   "outputs": [],
   "source": [
    "# Taking the values of sixe of pizza and the price of pizza respecting to its size"
   ]
  },
  {
   "cell_type": "code",
   "execution_count": 4,
   "metadata": {},
   "outputs": [],
   "source": [
    "X = [6,8,10,14,18]#size of pizza\n",
    "y = [7,9,13,17.5,18]#Price of pizza according to its size\n",
    "T = 12 #Prediction of price of pizza if its size was 12"
   ]
  },
  {
   "cell_type": "code",
   "execution_count": 5,
   "metadata": {},
   "outputs": [],
   "source": [
    "# Linear regression model "
   ]
  },
  {
   "cell_type": "code",
   "execution_count": 6,
   "metadata": {},
   "outputs": [],
   "source": [
    "def LinearRegression(X,y,T):\n",
    "    x_mean=np.mean(X)\n",
    "    y_mean=np.mean(y)\n",
    "    print(\"Mean of X is: \",round(x_mean,2),\"\\nMean of Y is: \",y_mean)\n",
    "    x_bar=[]\n",
    "    for i in range(len(X)):\n",
    "        a = X[i]-x_mean\n",
    "        a=round(a,2)\n",
    "        x_bar.append(a)\n",
    "    y_bar=[]\n",
    "    for i in range(len(y)):\n",
    "        b= y[i]-y_mean\n",
    "        b=round(b,2)\n",
    "        y_bar.append(b)\n",
    "    A=[]\n",
    "    for i in range(len(X)):\n",
    "        A.append(x_bar[i]*y_bar[i])\n",
    "    B=[]\n",
    "    for i in range(len(X)):\n",
    "        B.append(x_bar[i]**2)\n",
    "        B[i]=round(B[i],2)\n",
    "    slope=sum(A)/sum(B)\n",
    "    slope=round(slope,2)\n",
    "    print(\"Slope(m): \",slope)\n",
    "    C=y_mean-(slope*x_mean)\n",
    "    C=round(C,2)\n",
    "    print(\"The Y-intercept: \",C)\n",
    "    q=[]\n",
    "    for i in range(len(X)):\n",
    "        q.append(slope*X[i]+C)\n",
    "    plt.scatter(X,y)\n",
    "    plt.plot(X, q, color='red')\n",
    "    plt.grid()\n",
    "    plt.show()\n",
    "    P=slope*T+C\n",
    "    print(\"Predicted price of the pizza of size \",T,\" is : \",P)"
   ]
  },
  {
   "cell_type": "code",
   "execution_count": 7,
   "metadata": {},
   "outputs": [],
   "source": [
    "# The plotting of the values and its predicted value"
   ]
  },
  {
   "cell_type": "code",
   "execution_count": 8,
   "metadata": {},
   "outputs": [
    {
     "name": "stdout",
     "output_type": "stream",
     "text": [
      "Mean of X is:  11.2 \n",
      "Mean of Y is:  12.9\n",
      "Slope(m):  0.98\n",
      "The Y-intercept:  1.92\n"
     ]
    },
    {
     "data": {
      "image/png": "[encoded data removed]",
      "text/plain": [
       "<Figure size 432x288 with 1 Axes>"
      ]
     },
     "metadata": {
      "needs_background": "light"
     },
     "output_type": "display_data"
    },
    {
     "name": "stdout",
     "output_type": "stream",
     "text": [
      "Predicted price of the pizza of size  12  is :  13.68\n"
     ]
    }
   ],
   "source": [
    "LinearRegression(X,y,T)"
   ]
  },
  {
   "cell_type": "code",
   "execution_count": 9,
   "metadata": {},
   "outputs": [],
   "source": [
    "# Verifying my model with the famous SciKit Learn Machine Learning Model"
   ]
  },
  {
   "cell_type": "code",
   "execution_count": 10,
   "metadata": {},
   "outputs": [
    {
     "name": "stdout",
     "output_type": "stream",
     "text": [
      "13.681034482758621\n"
     ]
    }
   ],
   "source": [
    "from sklearn.linear_model import LinearRegression\n",
    "g=np.array(X).reshape(-1,1)\n",
    "lr=LinearRegression()\n",
    "lr.fit(g,y)\n",
    "T=int(12)\n",
    "T=np.array(T).reshape(-1,1)\n",
    "p=lr.predict(T)\n",
    "print(p[0])"
   ]
  }
 ],
 "metadata": {
  "kernelspec": {
   "display_name": "Python 3",
   "language": "python",
   "name": "python3"
  },
  "language_info": {
   "codemirror_mode": {
    "name": "ipython",
    "version": 3
   },
   "file_extension": ".py",
   "mimetype": "text/x-python",
   "name": "python",
   "nbconvert_exporter": "python",
   "pygments_lexer": "ipython3",
   "version": "3.7.3"
  }
 },
 "nbformat": 4,
 "nbformat_minor": 2
}
